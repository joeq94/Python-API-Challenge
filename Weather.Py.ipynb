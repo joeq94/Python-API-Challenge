{
 "cells": [
  {
   "cell_type": "code",
   "execution_count": null,
   "metadata": {},
   "outputs": [],
   "source": [
    "# Dependencies and Setup\n",
    "import matplotlib.pyplot as plt\n",
    "import pandas as pd\n",
    "import numpy as np\n",
    "import requests\n",
    "import time\n",
    "import datetime\n",
    "\n",
    "# Import API key\n",
    "import api_keys\n",
    "from api_keys import api_key\n",
    "\n",
    "# Incorporated citipy to determine city based on latitude and longitude\n",
    "from citipy import citipy\n",
    "\n",
    "# Output File (CSV)\n",
    "output_data_file = \"output_data/cities.csv\"\n",
    "\n",
    "# Range of latitudes and longitudes\n",
    "lat_range = (-90, 90)\n",
    "lng_range = (-180, 180)\n",
    "\n",
    "print(citipy)"
   ]
  },
  {
   "cell_type": "code",
   "execution_count": null,
   "metadata": {},
   "outputs": [],
   "source": [
    "today = f\"{datetime.datetime.now():%m/%d/%y}\"\n",
    "print (today)"
   ]
  },
  {
   "cell_type": "code",
   "execution_count": null,
   "metadata": {},
   "outputs": [],
   "source": [
    "# List for holding lat_lngs and cities\n",
    "lat_lngs = []\n",
    "cities = []\n",
    "\n",
    "# Create a set of random lat and lng combinations\n",
    "lats = np.random.uniform(low=-90.000, high=90.000, size=1500)\n",
    "lngs = np.random.uniform(low=-180.000, high=180.000, size=1500)\n",
    "lat_lngs = zip(lats, lngs)\n",
    "\n",
    "# Identify nearest city for each lat, lng combination\n",
    "for lat_lng in lat_lngs:\n",
    "    city = citipy.nearest_city(lat_lng[0], lat_lng[1]).city_name\n",
    "    \n",
    "    # If the city is unique, then add it to a our cities list\n",
    "    if city not in cities:\n",
    "        cities.append(city)\n",
    "\n",
    "# Print the city count to confirm sufficient count\n",
    "len(cities)"
   ]
  },
  {
   "cell_type": "code",
   "execution_count": null,
   "metadata": {},
   "outputs": [],
   "source": [
    "url = \"http://api.openweathermap.org/data/2.5/weather?\"\n",
    "units = \"metric\"\n",
    "\n",
    "# Build partial query URL\n",
    "query_url = f\"{url}appid={api_key}&units={units}&q=\"\n",
    "\n",
    "# set up lists to hold reponse info\n",
    "City = []\n",
    "Cloudiness = []\n",
    "Country = []\n",
    "Date = []\n",
    "Humidity = []\n",
    "Lat = []\n",
    "Lng = []\n",
    "Max_Temp = []\n",
    "Wind_Speed = []"
   ]
  },
  {
   "cell_type": "code",
   "execution_count": null,
   "metadata": {},
   "outputs": [],
   "source": [
    "# Loop through the list of cities and perform a request for data on each\n",
    "\n",
    "print('Beginning Data Retrieval')     \n",
    "print('-----------------------------')\n",
    "i=0 \n",
    "\n",
    "for city in cities:\n",
    "    #print(f\"query_url is : {query_url}\")\n",
    "    response = requests.get(query_url + city).json()\n",
    "    #print(f\"response is : {response}\")\n",
    "    cod = response['cod']\n",
    "    if cod == 200: \n",
    "        i = i + 1\n",
    "        City.append(response['name'])\n",
    "        Cloudiness.append(response['clouds']['all'])\n",
    "        Country.append(response['sys']['country'])\n",
    "        Date.append(response['dt'])\n",
    "        Humidity.append(response['main']['humidity'])\n",
    "        Lat.append(response['coord']['lat'])\n",
    "        Lng.append(response['coord']['lon'])\n",
    "        Max_Temp.append(response['main']['temp_max'])\n",
    "        Wind_Speed.append(response['wind']['speed'])\n",
    "        print(f'Processing Record {i} of Set 1 | {city}')\n",
    "    else:\n",
    "        print(f'City not found. Skipping...')\n",
    "    \n",
    "print(f'-----------------------------')\n",
    "print(f'Data Retrieval Complete     ')\n",
    "print(f'-----------------------------')"
   ]
  },
  {
   "cell_type": "code",
   "execution_count": null,
   "metadata": {},
   "outputs": [],
   "source": [
    "\n",
    "weather_dict = {\n",
    "    \"City\": City,\n",
    "    \"Cloudiness\": Cloudiness,\n",
    "    \"Country\": Country,\n",
    "    \"Date\": Date,\n",
    "    \"Humidity\": Humidity,\n",
    "    \"Lat\": Lat,\n",
    "    \"Lng\": Lng,\n",
    "    \"Max Temp\": Max_Temp,\n",
    "    \"Wind Speed\": Wind_Speed\n",
    "}\n",
    "\n",
    "weather_data = pd.DataFrame(weather_dict)\n",
    "weather_data.to_csv('WeatherPy_data.csv')\n",
    "\n",
    "# print lengh of lists\n",
    "print(f'City          {len(City)}')\n",
    "print(f'Cloudiness    {len(Cloudiness)}')\n",
    "print(f'Country    {len(Country)}')\n",
    "print(f'Date    {len(Date)}')\n",
    "print(f'Humidity    {len(Humidity)}')\n",
    "print(f'Lat    {len(Lat)}')\n",
    "print(f'Lng    {len(Lng)}')\n",
    "print(f'Max Temp    {len(Max_Temp)}')\n",
    "print(f'Wind Speed    {len(Wind_Speed)}')"
   ]
  },
  {
   "cell_type": "code",
   "execution_count": null,
   "metadata": {},
   "outputs": [],
   "source": [
    "weather_data.head()\n"
   ]
  },
  {
   "cell_type": "code",
   "execution_count": null,
   "metadata": {},
   "outputs": [],
   "source": [
    "plt.title(f\"City Latitude vs. Max Temperature ({today})\")\n",
    "plt.xlabel(\"Latitude\")\n",
    "plt.ylabel(\"Max Temperature (F)\")\n",
    "\n",
    "plt.scatter(Lat, Max_Temp, marker=\"o\", alpha=.75, edgecolors=\"k\")\n",
    "plt.grid()\n",
    "plt.show()\n",
    "#plt.savefig('max_temperature')"
   ]
  },
  {
   "cell_type": "code",
   "execution_count": null,
   "metadata": {},
   "outputs": [],
   "source": [
    "plt.title(f\"City Latitude vs. Humidity ({today})\")\n",
    "plt.xlabel(\"Latitude\")\n",
    "plt.ylabel(\"Humidity (%)\")\n",
    "\n",
    "\n",
    "plt.scatter(Lat, Humidity, marker=\"o\", alpha=.75, edgecolors=\"k\")\n",
    "plt.grid()\n",
    "plt.show()"
   ]
  },
  {
   "cell_type": "code",
   "execution_count": null,
   "metadata": {},
   "outputs": [],
   "source": [
    "plt.title(f\"City Latitude vs. Cloudiness ({today})\")\n",
    "plt.xlabel(\"Latitude\")\n",
    "plt.ylabel(\"Cloudiness (%)\")\n",
    "\n",
    "\n",
    "plt.scatter(Lat, Cloudiness, marker=\"o\", alpha=.75, edgecolors=\"k\")\n",
    "plt.grid()\n",
    "plt.show()"
   ]
  },
  {
   "cell_type": "code",
   "execution_count": null,
   "metadata": {},
   "outputs": [],
   "source": [
    "plt.title(f\"City Latitude vs. Wind Speed ({today})\")\n",
    "plt.xlabel(\"Latitude\")\n",
    "plt.ylabel(\"Wind Speed (mph)\")\n",
    "\n",
    "\n",
    "plt.scatter(Lat, Wind_Speed, alpha=.75, edgecolors=\"k\")\n",
    "plt.grid()\n",
    "plt.show()"
   ]
  }
 ],
 "metadata": {
  "kernelspec": {
   "display_name": "Python 3",
   "language": "python",
   "name": "python3"
  },
  "language_info": {
   "codemirror_mode": {
    "name": "ipython",
    "version": 3
   },
   "file_extension": ".py",
   "mimetype": "text/x-python",
   "name": "python",
   "nbconvert_exporter": "python",
   "pygments_lexer": "ipython3",
   "version": "3.8.5"
  }
 },
 "nbformat": 4,
 "nbformat_minor": 4
}
